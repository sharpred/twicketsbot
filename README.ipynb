{
 "cells": [
  {
   "cell_type": "markdown",
   "metadata": {},
   "source": [
    "Introduction\n",
    "\n",
    "Accessing Twickets via API key\n",
    "\n",
    "https://www.twickets.live/services/countries?api_key=TWICKETS_API_KEY\n",
    "\n",
    "\n",
    "https://www.twickets.live/services/g2/inventory/listings/1884917808408563712?api_key=TWICKETS_API_KEY\n",
    "\n",
    "https://www.twickets.live/services/inventory/462052583028639?api_key=TWICKETS_API_KEY&qty=1\n",
    "\n",
    "Source\n",
    "\n",
    "The code for this project was adapted from https://github.com/mlinzner/twicket-get/tree/master\n",
    "\n"
   ]
  },
  {
   "cell_type": "markdown",
   "metadata": {},
   "source": [
    "## Environment Variables (make sure these are set or )\n",
    "\n",
    "```\n",
    "layout python3\n",
    "export TWICKETS_API_KEY=\"\"\n",
    "export TWICKETS_EMAIL=\"\"\n",
    "export TWICKETS_PASSWORD=\"\"\n",
    "export TWICKETS_EVENT_ID=\"\"\n",
    "export TWICKETS_CLIENT_ID=\"\"\n",
    "export PROWL_API_KEY=\"\"\n",
    "export PATH=\"/opt/homebrew/opt/cbc/bin:$PATH\"\n",
    "export TELEGRAM_BOT_TOKEN=\"\"\n",
    "export TELEGRAM_CHAT_ID=\"\"\n",
    "export TWICKETS_EVENT_NAME=\"\"\n",
    "```"
   ]
  }
 ],
 "metadata": {
  "language_info": {
   "name": "python"
  }
 },
 "nbformat": 4,
 "nbformat_minor": 2
}
